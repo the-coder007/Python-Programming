{
 "cells": [
  {
   "cell_type": "markdown",
   "id": "f0383d5b",
   "metadata": {},
   "source": [
    "1.\tWrite a Python Program to Find LCM?\n",
    "2.\tWrite a Python Program to Find HCF?\n",
    "3.\tWrite a Python Program to Convert Decimal to Binary, Octal and Hexadecimal?\n",
    "4.\tWrite a Python Program To Find ASCII value of a character?\n",
    "5.\tWrite a Python Program to Make a Simple Calculator with 4 basic mathematical operations?\n"
   ]
  },
  {
   "cell_type": "markdown",
   "id": "036ebb17",
   "metadata": {},
   "source": [
    "# Write a Python Program to Find LCM?"
   ]
  },
  {
   "cell_type": "code",
   "execution_count": 15,
   "id": "2c6565f8",
   "metadata": {},
   "outputs": [
    {
     "name": "stdout",
     "output_type": "stream",
     "text": [
      "Enter the first number ::6\n",
      "enter the second number ::7\n",
      "The LCM of a and b is 42\n"
     ]
    }
   ],
   "source": [
    "a = int(input(\"Enter the first number ::\"))\n",
    "b = int(input(\"enter the second number ::\"))\n",
    "\n",
    "maxNum = max(a, b)\n",
    "\n",
    "while True:\n",
    "    if (maxNum % a == 0 and maxNum % b == 0):\n",
    "        break\n",
    "    maxNum = maxNum + 1\n",
    "\n",
    "print(f\"The LCM of a and b is {maxNum}\")"
   ]
  },
  {
   "cell_type": "markdown",
   "id": "54b569be",
   "metadata": {},
   "source": [
    "# Write a Python Program to Find HCF?"
   ]
  },
  {
   "cell_type": "code",
   "execution_count": 48,
   "id": "5521214d",
   "metadata": {},
   "outputs": [
    {
     "name": "stdout",
     "output_type": "stream",
     "text": [
      "Enter First Number: 12\n",
      "Enter Second Number: 28\n",
      "HCF of m and n:  4\n"
     ]
    }
   ],
   "source": [
    "m=int(input(\"Enter First Number: \"))\n",
    "n=int(input(\"Enter Second Number: \"))\n",
    "miniNum=min(m,n)\n",
    "for i in range(1,miniNum+1):\n",
    "    if m%i==0 and n%i==0:\n",
    "        hcf=i\n",
    "print(\"HCF of m and n: \",hcf)"
   ]
  },
  {
   "cell_type": "markdown",
   "id": "59da6c30",
   "metadata": {},
   "source": [
    "# Write a Python Program to Convert Decimal to Binary, Octal and Hexadecimal?"
   ]
  },
  {
   "cell_type": "code",
   "execution_count": 49,
   "id": "76f55c77",
   "metadata": {},
   "outputs": [
    {
     "name": "stdout",
     "output_type": "stream",
     "text": [
      "Enter the Number: 12\n",
      "Conversion Of decimal Number 12 is :\n",
      "0b1100 in binary\n",
      "0o14 in octal\n",
      "0xc in hexadecimal\n"
     ]
    }
   ],
   "source": [
    "decimal=int(input(\"Enter the Number: \"))\n",
    "print(\"Conversion Of decimal Number\", decimal ,\"is :\")\n",
    "print(bin(decimal),\"in binary\")\n",
    "print(oct(decimal),\"in octal\")\n",
    "print(hex(decimal),\"in hexadecimal\")"
   ]
  },
  {
   "cell_type": "markdown",
   "id": "cb53f7aa",
   "metadata": {},
   "source": [
    "# Write a Python Program To Find ASCII value of a character?"
   ]
  },
  {
   "cell_type": "code",
   "execution_count": 54,
   "id": "4c56079b",
   "metadata": {},
   "outputs": [
    {
     "name": "stdout",
     "output_type": "stream",
     "text": [
      "Enter the Character: p\n",
      "The ASCII value of p is 112\n"
     ]
    }
   ],
   "source": [
    "char=input(\"Enter the Character: \")\n",
    "print(\"The ASCII value of\",char,\"is\",ord(char))\n"
   ]
  },
  {
   "cell_type": "markdown",
   "id": "236b0da4",
   "metadata": {},
   "source": [
    "# Write a Python Program to Make a Simple Calculator with 4 basic mathematical operations?"
   ]
  },
  {
   "cell_type": "code",
   "execution_count": 26,
   "id": "3737a057",
   "metadata": {},
   "outputs": [],
   "source": [
    "class Calculator:\n",
    "    def addition(a,b):\n",
    "        return a+b\n",
    "    def subtraction(a,b):\n",
    "        return a-b\n",
    "    def multiplication(a,b):\n",
    "        return a*b\n",
    "    def divide(a,b):\n",
    "        return a/b\n",
    "       \n",
    "            "
   ]
  },
  {
   "cell_type": "code",
   "execution_count": 8,
   "id": "ac78f031",
   "metadata": {},
   "outputs": [
    {
     "data": {
      "text/plain": [
       "6"
      ]
     },
     "execution_count": 8,
     "metadata": {},
     "output_type": "execute_result"
    }
   ],
   "source": [
    "Calculator.addition(2,4)"
   ]
  },
  {
   "cell_type": "code",
   "execution_count": 9,
   "id": "fa736255",
   "metadata": {},
   "outputs": [
    {
     "data": {
      "text/plain": [
       "1"
      ]
     },
     "execution_count": 9,
     "metadata": {},
     "output_type": "execute_result"
    }
   ],
   "source": [
    "Calculator.subtraction(4,3)"
   ]
  },
  {
   "cell_type": "code",
   "execution_count": 10,
   "id": "4c497ee4",
   "metadata": {},
   "outputs": [
    {
     "data": {
      "text/plain": [
       "8"
      ]
     },
     "execution_count": 10,
     "metadata": {},
     "output_type": "execute_result"
    }
   ],
   "source": [
    "Calculator.multiplication(4,2)"
   ]
  },
  {
   "cell_type": "code",
   "execution_count": 28,
   "id": "387b0124",
   "metadata": {},
   "outputs": [
    {
     "data": {
      "text/plain": [
       "1.8"
      ]
     },
     "execution_count": 28,
     "metadata": {},
     "output_type": "execute_result"
    }
   ],
   "source": [
    "Calculator.divide(9,5)"
   ]
  },
  {
   "cell_type": "code",
   "execution_count": null,
   "id": "863ff8d8",
   "metadata": {},
   "outputs": [],
   "source": []
  }
 ],
 "metadata": {
  "kernelspec": {
   "display_name": "Python 3 (ipykernel)",
   "language": "python",
   "name": "python3"
  },
  "language_info": {
   "codemirror_mode": {
    "name": "ipython",
    "version": 3
   },
   "file_extension": ".py",
   "mimetype": "text/x-python",
   "name": "python",
   "nbconvert_exporter": "python",
   "pygments_lexer": "ipython3",
   "version": "3.9.13"
  },
  "toc": {
   "base_numbering": 1,
   "nav_menu": {},
   "number_sections": true,
   "sideBar": true,
   "skip_h1_title": false,
   "title_cell": "Table of Contents",
   "title_sidebar": "Contents",
   "toc_cell": false,
   "toc_position": {},
   "toc_section_display": true,
   "toc_window_display": false
  },
  "varInspector": {
   "cols": {
    "lenName": 16,
    "lenType": 16,
    "lenVar": 40
   },
   "kernels_config": {
    "python": {
     "delete_cmd_postfix": "",
     "delete_cmd_prefix": "del ",
     "library": "var_list.py",
     "varRefreshCmd": "print(var_dic_list())"
    },
    "r": {
     "delete_cmd_postfix": ") ",
     "delete_cmd_prefix": "rm(",
     "library": "var_list.r",
     "varRefreshCmd": "cat(var_dic_list()) "
    }
   },
   "types_to_exclude": [
    "module",
    "function",
    "builtin_function_or_method",
    "instance",
    "_Feature"
   ],
   "window_display": false
  }
 },
 "nbformat": 4,
 "nbformat_minor": 5
}
