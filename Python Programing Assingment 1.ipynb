{
 "cells": [
  {
   "cell_type": "markdown",
   "id": "eb640cb7",
   "metadata": {},
   "source": [
    "# Assignment "
   ]
  },
  {
   "cell_type": "markdown",
   "id": "149406b4",
   "metadata": {},
   "source": [
    "1.\tWrite a Python program to print \"Hello Python\"?\n",
    "2.\tWrite a Python program to do arithmetical operations addition and division.?\n",
    "3.\tWrite a Python program to find the area of a triangle?\n",
    "4.\tWrite a Python program to swap two variables?\n",
    "5.\tWrite a Python program to generate a random number?\n"
   ]
  },
  {
   "cell_type": "markdown",
   "id": "ab8d6c23",
   "metadata": {},
   "source": [
    "***1.Write a Python program to print \"Hello Python\"?***"
   ]
  },
  {
   "cell_type": "code",
   "execution_count": null,
   "id": "321d0cbb",
   "metadata": {},
   "outputs": [],
   "source": [
    "print(\"Hello Python\")"
   ]
  },
  {
   "cell_type": "markdown",
   "id": "438ff8bc",
   "metadata": {},
   "source": [
    "***2.\tWrite a Python program to do arithmetical operations addition and division.?***"
   ]
  },
  {
   "cell_type": "code",
   "execution_count": null,
   "id": "d3174d63",
   "metadata": {},
   "outputs": [],
   "source": [
    "a=10\n",
    "b=20\n",
    "c=a+b\n",
    "d=b/a\n",
    "print(\"Addition:=\", c)\n",
    "print(\"Division:=\",d)"
   ]
  },
  {
   "cell_type": "markdown",
   "id": "d2ebedec",
   "metadata": {},
   "source": [
    "***3.\tWrite a Python program to find the area of a triangle?***"
   ]
  },
  {
   "cell_type": "code",
   "execution_count": 1,
   "id": "605046d3",
   "metadata": {},
   "outputs": [
    {
     "name": "stdout",
     "output_type": "stream",
     "text": [
      "Height of traingle 50\n",
      "base of traingle 50\n"
     ]
    },
    {
     "data": {
      "text/plain": [
       "1250.0"
      ]
     },
     "execution_count": 1,
     "metadata": {},
     "output_type": "execute_result"
    }
   ],
   "source": [
    "height=float(input(\"Height of traingle \"))\n",
    "base=float(input(\"base of traingle \"))\n",
    "\n",
    "def areaT(height,base):\n",
    "    return 0.5*height*base\n",
    "\n",
    "areaT(height,base)"
   ]
  },
  {
   "cell_type": "markdown",
   "id": "5fac6c1c",
   "metadata": {},
   "source": [
    "***4.Write a Python program to swap two variables?***"
   ]
  },
  {
   "cell_type": "code",
   "execution_count": 7,
   "id": "3ca2f7a4",
   "metadata": {},
   "outputs": [],
   "source": [
    "a=5\n",
    "b=10\n",
    "\n",
    "a,b=b,a"
   ]
  },
  {
   "cell_type": "code",
   "execution_count": 9,
   "id": "e06b9b54",
   "metadata": {},
   "outputs": [
    {
     "name": "stdout",
     "output_type": "stream",
     "text": [
      "10\n",
      "5\n"
     ]
    }
   ],
   "source": [
    "print(a)\n",
    "print(b)"
   ]
  },
  {
   "cell_type": "markdown",
   "id": "e29fb4aa",
   "metadata": {},
   "source": [
    "***5.\tWrite a Python program to generate a random number?***"
   ]
  },
  {
   "cell_type": "code",
   "execution_count": 11,
   "id": "b897c8fa",
   "metadata": {},
   "outputs": [
    {
     "name": "stdout",
     "output_type": "stream",
     "text": [
      "14\n"
     ]
    }
   ],
   "source": [
    "import random\n",
    "\n",
    "print(random.randint(0,20))"
   ]
  },
  {
   "cell_type": "code",
   "execution_count": 12,
   "id": "5a0052c7",
   "metadata": {},
   "outputs": [
    {
     "name": "stdout",
     "output_type": "stream",
     "text": [
      "0\n"
     ]
    }
   ],
   "source": [
    "\n",
    "print(random.randint(0,20))"
   ]
  },
  {
   "cell_type": "code",
   "execution_count": 13,
   "id": "39d1c5c0",
   "metadata": {},
   "outputs": [
    {
     "name": "stdout",
     "output_type": "stream",
     "text": [
      "15\n"
     ]
    }
   ],
   "source": [
    "\n",
    "print(random.randint(0,20))"
   ]
  },
  {
   "cell_type": "code",
   "execution_count": null,
   "id": "d7d1cda5",
   "metadata": {},
   "outputs": [],
   "source": []
  }
 ],
 "metadata": {
  "kernelspec": {
   "display_name": "Python 3 (ipykernel)",
   "language": "python",
   "name": "python3"
  },
  "language_info": {
   "codemirror_mode": {
    "name": "ipython",
    "version": 3
   },
   "file_extension": ".py",
   "mimetype": "text/x-python",
   "name": "python",
   "nbconvert_exporter": "python",
   "pygments_lexer": "ipython3",
   "version": "3.9.13"
  },
  "toc": {
   "base_numbering": 1,
   "nav_menu": {},
   "number_sections": true,
   "sideBar": true,
   "skip_h1_title": false,
   "title_cell": "Table of Contents",
   "title_sidebar": "Contents",
   "toc_cell": false,
   "toc_position": {},
   "toc_section_display": true,
   "toc_window_display": false
  },
  "varInspector": {
   "cols": {
    "lenName": 16,
    "lenType": 16,
    "lenVar": 40
   },
   "kernels_config": {
    "python": {
     "delete_cmd_postfix": "",
     "delete_cmd_prefix": "del ",
     "library": "var_list.py",
     "varRefreshCmd": "print(var_dic_list())"
    },
    "r": {
     "delete_cmd_postfix": ") ",
     "delete_cmd_prefix": "rm(",
     "library": "var_list.r",
     "varRefreshCmd": "cat(var_dic_list()) "
    }
   },
   "types_to_exclude": [
    "module",
    "function",
    "builtin_function_or_method",
    "instance",
    "_Feature"
   ],
   "window_display": false
  }
 },
 "nbformat": 4,
 "nbformat_minor": 5
}
